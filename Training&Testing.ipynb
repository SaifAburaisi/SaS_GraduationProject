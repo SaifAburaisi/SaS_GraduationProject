{
 "cells": [
  {
   "cell_type": "code",
   "execution_count": null,
   "metadata": {
    "colab": {
     "base_uri": "https://localhost:8080/",
     "height": 1000
    },
    "id": "Uo2k7DgPMwdm",
    "outputId": "6b5f4929-188e-43f1-a653-efa3701015a7",
    "pycharm": {
     "is_executing": true
    }
   },
   "outputs": [],
   "source": [
    "# Importing dataset from roboflow\n",
    "!pip install roboflow\n",
    "\n",
    "from roboflow import Roboflow\n",
    "rf = Roboflow(api_key=\"kvGHGnFWMflKbESR7kBO\")\n",
    "project = rf.workspace(\"testeeeee\").project(\"sas-yypjc\")\n",
    "dataset = project.version(4).download(\"yolov7\")\n"
   ]
  },
  {
   "cell_type": "code",
   "execution_count": null,
   "metadata": {
    "colab": {
     "base_uri": "https://localhost:8080/"
    },
    "id": "OnMNIhWd3K2I",
    "outputId": "399242b0-1984-497d-f274-249f8f7060a0",
    "pycharm": {
     "is_executing": true
    }
   },
   "outputs": [],
   "source": [
    "# Cloning the yolov7 repositry\n",
    "!git clone https://github.com/WongKinYiu/yolov7\n",
    "%cd yolov7\n",
    "!pip install -r requirements.txt"
   ]
  },
  {
   "cell_type": "code",
   "execution_count": null,
   "metadata": {
    "colab": {
     "base_uri": "https://localhost:8080/"
    },
    "id": "f2tMva_L3eXm",
    "outputId": "c7b4f68c-3de4-4750-cc8a-ac60176100e6",
    "pycharm": {
     "is_executing": true
    }
   },
   "outputs": [],
   "source": [
    "# Downloading the pretrained weights\n",
    "%cd /content/yolov7\n",
    "!wget https://github.com/WongKinYiu/yolov7/releases/download/v0.1/yolov7_training.pt"
   ]
  },
  {
   "cell_type": "code",
   "execution_count": null,
   "metadata": {
    "colab": {
     "base_uri": "https://localhost:8080/"
    },
    "id": "5glsyHp-XMid",
    "outputId": "4c2abd2c-1efd-424a-d643-48ef5e250fa0",
    "pycharm": {
     "is_executing": true
    }
   },
   "outputs": [],
   "source": [
    "# Grid search algorithm to find best learning rate and weight decay value\n",
    "!pip install ruamel.yaml\n",
    "\n",
    "import ruamel.yaml\n",
    "lr= [0.01,0.001,0.0001]\n",
    "wd= [0.0005,0.0001,0.001]\n",
    "\n",
    "for i in lr:\n",
    "  for j in wd:\n",
    "    file_name = '/content/yolov7/data/hyp.scratch.p5.yaml'\n",
    "    config, ind, bsi = ruamel.yaml.util.load_yaml_guess_indent(open(file_name))\n",
    "\n",
    "    config['lr0'] = i\n",
    "    config['weight_decay'] = j\n",
    "\n",
    "    yaml = ruamel.yaml.YAML()\n",
    "    yaml.indent(mapping=ind, sequence=ind, offset=bsi) \n",
    "    with open(file_name, 'w') as fp:\n",
    "        yaml.dump(config, fp)\n",
    "    %cd /content/yolov7\n",
    "    !python train.py --workers 8 --device 0 --data /content/yolov7/SaS-4/data.yaml --img-size 608 608 --batch 32 --cfg /content/yolov7/cfg/training/yolov7.yaml --weights /content/yolov7/yolov7_training.pt --epochs 5 --hyp /content/yolov7/data/hyp.scratch.p5.yaml --adam"
   ]
  },
  {
   "cell_type": "code",
   "execution_count": null,
   "metadata": {
    "colab": {
     "base_uri": "https://localhost:8080/"
    },
    "id": "z7MzdoaP3u0Z",
    "outputId": "cb1b5cf1-fe4d-42bd-b936-4cbfbc1f1c0c",
    "pycharm": {
     "is_executing": true
    }
   },
   "outputs": [],
   "source": [
    "# Training the model\n",
    "%cd /content/yolov7\n",
    "!python train.py --workers 8 --device 0 --data /content/yolov7/SaS-4/data.yaml --img-size 608 331 --batch 32 --cfg /content/yolov7/cfg/training/yolov7.yaml --weights /content/yolov7/yolov7_training.pt --epochs 50 --hyp /content/hyp.yaml --adam"
   ]
  },
  {
   "cell_type": "code",
   "execution_count": null,
   "metadata": {
    "colab": {
     "base_uri": "https://localhost:8080/"
    },
    "id": "laA2_L7hWV4v",
    "outputId": "d4d4dadd-43ae-4383-af7c-f549c20c58ea",
    "pycharm": {
     "is_executing": true
    }
   },
   "outputs": [],
   "source": [
    "# Testing the model\n",
    "!python test.py --data /content/yolov7/SaS-4/data.yaml  --batch 32 --conf 0.001 --device 0 --weights /content/yolov7/runs/train/exp21/weights/best.pt --task test"
   ]
  }
 ],
 "metadata": {
  "accelerator": "GPU",
  "colab": {
   "machine_shape": "hm",
   "provenance": [],
   "gpuType": "V100",
   "gpuClass": "premium"
  },
  "gpuClass": "premium",
  "kernelspec": {
   "display_name": "Python 3",
   "name": "python3"
  },
  "language_info": {
   "name": "python"
  }
 },
 "nbformat": 4,
 "nbformat_minor": 0
}
